{
 "cells": [
  {
   "cell_type": "code",
   "execution_count": 1,
   "id": "762fd91e",
   "metadata": {},
   "outputs": [
    {
     "ename": "NameError",
     "evalue": "name 'df1' is not defined",
     "output_type": "error",
     "traceback": [
      "\u001b[0;31m---------------------------------------------------------------------------\u001b[0m",
      "\u001b[0;31mNameError\u001b[0m                                 Traceback (most recent call last)",
      "\u001b[0;32m/tmp/ipykernel_111202/2622145318.py\u001b[0m in \u001b[0;36m<module>\u001b[0;34m\u001b[0m\n\u001b[0;32m----> 1\u001b[0;31m \u001b[0mquant1\u001b[0m \u001b[0;34m=\u001b[0m \u001b[0mdf1\u001b[0m\u001b[0;34m[\u001b[0m\u001b[0;34m[\u001b[0m\u001b[0;34m\"photoz\"\u001b[0m\u001b[0;34m,\u001b[0m \u001b[0;34m\"i_cmodel_mag_ge\"\u001b[0m\u001b[0;34m]\u001b[0m\u001b[0;34m]\u001b[0m\u001b[0;34m\u001b[0m\u001b[0;34m\u001b[0m\u001b[0m\n\u001b[0m\u001b[1;32m      2\u001b[0m \u001b[0mquant2\u001b[0m \u001b[0;34m=\u001b[0m \u001b[0mdf2\u001b[0m\u001b[0;34m[\u001b[0m\u001b[0;34m[\u001b[0m\u001b[0;34m'z'\u001b[0m\u001b[0;34m,\u001b[0m \u001b[0;34m'i_band_mag_dust_apparent'\u001b[0m\u001b[0;34m]\u001b[0m\u001b[0;34m]\u001b[0m\u001b[0;34m\u001b[0m\u001b[0;34m\u001b[0m\u001b[0m\n\u001b[1;32m      3\u001b[0m \u001b[0;34m\u001b[0m\u001b[0m\n\u001b[1;32m      4\u001b[0m \u001b[0mlen\u001b[0m\u001b[0;34m(\u001b[0m\u001b[0mquant1\u001b[0m\u001b[0;34m)\u001b[0m\u001b[0;34m\u001b[0m\u001b[0;34m\u001b[0m\u001b[0m\n\u001b[1;32m      5\u001b[0m \u001b[0mlen\u001b[0m\u001b[0;34m(\u001b[0m\u001b[0mquant2\u001b[0m\u001b[0;34m)\u001b[0m\u001b[0;34m\u001b[0m\u001b[0;34m\u001b[0m\u001b[0m\n",
      "\u001b[0;31mNameError\u001b[0m: name 'df1' is not defined"
     ]
    }
   ],
   "source": [
    "quant1 = df1[[\"photoz\", \"i_cmodel_mag_ge\"]]\n",
    "quant2 = df2[['z', 'i_band_mag_dust_apparent']]\n",
    "\n",
    "len(quant1)\n",
    "len(quant2)"
   ]
  },
  {
   "cell_type": "code",
   "execution_count": 2,
   "id": "8e14b2d5",
   "metadata": {},
   "outputs": [
    {
     "ename": "NameError",
     "evalue": "name 'quant1' is not defined",
     "output_type": "error",
     "traceback": [
      "\u001b[0;31m---------------------------------------------------------------------------\u001b[0m",
      "\u001b[0;31mNameError\u001b[0m                                 Traceback (most recent call last)",
      "\u001b[0;32m/tmp/ipykernel_111202/3621462003.py\u001b[0m in \u001b[0;36m<module>\u001b[0;34m\u001b[0m\n\u001b[1;32m      1\u001b[0m \u001b[0;32mimport\u001b[0m \u001b[0mmatplotlib\u001b[0m\u001b[0;34m.\u001b[0m\u001b[0mpyplot\u001b[0m \u001b[0;32mas\u001b[0m \u001b[0mplt\u001b[0m\u001b[0;34m\u001b[0m\u001b[0;34m\u001b[0m\u001b[0m\n\u001b[0;32m----> 2\u001b[0;31m \u001b[0mplt\u001b[0m\u001b[0;34m.\u001b[0m\u001b[0mscatter\u001b[0m\u001b[0;34m(\u001b[0m\u001b[0mquant1\u001b[0m\u001b[0;34m[\u001b[0m\u001b[0;34m\"photoz\"\u001b[0m\u001b[0;34m]\u001b[0m\u001b[0;34m,\u001b[0m \u001b[0mquant1\u001b[0m\u001b[0;34m[\u001b[0m\u001b[0;34m\"i_cmodel_mag_ge\"\u001b[0m\u001b[0;34m]\u001b[0m\u001b[0;34m,\u001b[0m \u001b[0ms\u001b[0m\u001b[0;34m=\u001b[0m\u001b[0;36m1\u001b[0m\u001b[0;34m,\u001b[0m \u001b[0mlabel\u001b[0m\u001b[0;34m=\u001b[0m\u001b[0;34m\"HSC\"\u001b[0m\u001b[0;34m)\u001b[0m\u001b[0;34m\u001b[0m\u001b[0;34m\u001b[0m\u001b[0m\n\u001b[0m\u001b[1;32m      3\u001b[0m \u001b[0mplt\u001b[0m\u001b[0;34m.\u001b[0m\u001b[0mscatter\u001b[0m\u001b[0;34m(\u001b[0m\u001b[0mquant2\u001b[0m\u001b[0;34m[\u001b[0m\u001b[0;34m\"z\"\u001b[0m\u001b[0;34m]\u001b[0m\u001b[0;34m,\u001b[0m \u001b[0mquant2\u001b[0m\u001b[0;34m[\u001b[0m\u001b[0;34m\"i_band_mag_dust_apparent\"\u001b[0m\u001b[0;34m]\u001b[0m\u001b[0;34m,\u001b[0m \u001b[0ms\u001b[0m\u001b[0;34m=\u001b[0m\u001b[0;36m2\u001b[0m\u001b[0;34m,\u001b[0m \u001b[0mlabel\u001b[0m\u001b[0;34m=\u001b[0m\u001b[0;34m\"TNG\"\u001b[0m\u001b[0;34m)\u001b[0m\u001b[0;34m\u001b[0m\u001b[0;34m\u001b[0m\u001b[0m\n\u001b[1;32m      4\u001b[0m \u001b[0mplt\u001b[0m\u001b[0;34m.\u001b[0m\u001b[0mxlabel\u001b[0m\u001b[0;34m(\u001b[0m\u001b[0;34m\"z\"\u001b[0m\u001b[0;34m)\u001b[0m\u001b[0;34m\u001b[0m\u001b[0;34m\u001b[0m\u001b[0m\n\u001b[1;32m      5\u001b[0m \u001b[0mplt\u001b[0m\u001b[0;34m.\u001b[0m\u001b[0mylabel\u001b[0m\u001b[0;34m(\u001b[0m\u001b[0;34m\"i_band_mag\"\u001b[0m\u001b[0;34m)\u001b[0m\u001b[0;34m\u001b[0m\u001b[0;34m\u001b[0m\u001b[0m\n",
      "\u001b[0;31mNameError\u001b[0m: name 'quant1' is not defined"
     ]
    }
   ],
   "source": [
    "import matplotlib.pyplot as plt\n",
    "plt.scatter(quant1[\"photoz\"], quant1[\"i_cmodel_mag_ge\"], s=1, label=\"HSC\")\n",
    "plt.scatter(quant2[\"z\"], quant2[\"i_band_mag_dust_apparent\"], s=2, label=\"TNG\")\n",
    "plt.xlabel(\"z\")\n",
    "plt.ylabel(\"i_band_mag\")\n",
    "plt.legend()"
   ]
  },
  {
   "cell_type": "code",
   "execution_count": 4,
   "id": "c6b3a45f",
   "metadata": {},
   "outputs": [
    {
     "data": {
      "text/plain": [
       "<matplotlib.legend.Legend at 0x15121bb113d0>"
      ]
     },
     "execution_count": 4,
     "metadata": {},
     "output_type": "execute_result"
    },
    {
     "data": {
      "image/png": "[encoded data removed]",
      "text/plain": [
       "<Figure size 432x288 with 1 Axes>"
      ]
     },
     "metadata": {
      "needs_background": "light"
     },
     "output_type": "display_data"
    }
   ],
   "source": [
    "bins = 50\n",
    "plt.hist(quant1[\"i_cmodel_mag_ge\"], density=True, label=\"HSC\", bins=bins)\n",
    "plt.hist(quant2[\"i_band_mag_dust_apparent\"], density=True, alpha=0.5, label=\"TNG\", bins=bins)\n",
    "plt.xlabel(\"i_band_mag\")\n",
    "plt.legend()"
   ]
  },
  {
   "cell_type": "code",
   "execution_count": 7,
   "id": "03838af5",
   "metadata": {},
   "outputs": [],
   "source": [
    "from sklearn.preprocessing import StandardScaler\n",
    "import numpy as np\n",
    "\n",
    "source = np.array(quant1)\n",
    "target = np.array(quant2)\n",
    "\n",
    "scaler = StandardScaler()\n",
    "scaler.fit(target)\n",
    "\n",
    "source = scaler.transform(source)\n",
    "target = scaler.transform(target)"
   ]
  },
  {
   "cell_type": "code",
   "execution_count": 12,
   "id": "f8b446eb",
   "metadata": {},
   "outputs": [
    {
     "name": "stdout",
     "output_type": "stream",
     "text": [
      "Number of matched galaxies: 6821 / 8980\n"
     ]
    }
   ],
   "source": [
    "from sklearn.neighbors import KDTree\n",
    "\n",
    "MATCHING_MAX_ITER = 100\n",
    "MATCHING_MAX_DIST = 0.05\n",
    "        \n",
    "#Create a KDTree to search for the nearest galaxy in the sample to match\n",
    "kdt = KDTree(source, metric='euclidean')\n",
    "        \n",
    "#Set of already used indexes\n",
    "index_set = set()\n",
    "        \n",
    "#Output list containing the matched \n",
    "matched_indexes = []\n",
    "        \n",
    "#Output mask to remove targets which have no unique source that is within the Maximum matching radius \n",
    "matched_mask = []\n",
    "        \n",
    "for x in target:\n",
    "    for i in range(MATCHING_MAX_ITER): \n",
    "        distance, index = kdt.query([x], k=i+1, return_distance=True)\n",
    "        distance = distance[0,-1]\n",
    "        index = index[0,-1]\n",
    "                    \n",
    "        if distance>MATCHING_MAX_DIST or i == MATCHING_MAX_ITER-1:\n",
    "            matched_mask.append(False)\n",
    "            break\n",
    "        \n",
    "        if index not in index_set:\n",
    "            matched_mask.append(True)\n",
    "            index_set.add(index)\n",
    "            matched_indexes.append(index)\n",
    "            break\n",
    "\n",
    "#Ensure that there are no double matched galaxies\n",
    "ux, counts = np.unique(matched_indexes, return_counts=True)\n",
    "assert(np.sum(counts > 1) == 0)\n",
    "        \n",
    "#Print numer of matched galaxies\n",
    "num_matched = str(np.sum(matched_mask))\n",
    "num_target = str(len(matched_mask))\n",
    "print(\"Number of matched galaxies: \" + num_matched + \" / \" + num_target)\n"
   ]
  },
  {
   "cell_type": "code",
   "execution_count": 13,
   "id": "ed1f6891",
   "metadata": {},
   "outputs": [],
   "source": [
    "df1_matched = df1.iloc[matched_indexes]\n",
    "df1_matched = df1_matched\n",
    "df2_matched = quant2[matched_mask]\n",
    "df1_matched = df1_matched[[\"photoz\", \"i_cmodel_mag_ge\"]]"
   ]
  },
  {
   "cell_type": "code",
   "execution_count": 14,
   "id": "124dacb4",
   "metadata": {},
   "outputs": [
    {
     "data": {
      "text/plain": [
       "<matplotlib.legend.Legend at 0x1511e7a33ed0>"
      ]
     },
     "execution_count": 14,
     "metadata": {},
     "output_type": "execute_result"
    },
    {
     "data": {
      "image/png": "[encoded data removed]",
      "text/plain": [
       "<Figure size 432x288 with 1 Axes>"
      ]
     },
     "metadata": {
      "needs_background": "light"
     },
     "output_type": "display_data"
    }
   ],
   "source": [
    "import matplotlib.pyplot as plt\n",
    "plt.scatter(df1_matched[\"photoz\"], df1_matched[\"i_cmodel_mag_ge\"], s=2, label=\"HSC\")\n",
    "plt.scatter(df2_matched[\"z\"], df2_matched[\"i_band_mag_dust_apparent\"], s=2, label=\"TNG\")\n",
    "plt.xlabel(\"z\")\n",
    "plt.ylabel(\"i_band_mag\")\n",
    "plt.legend()"
   ]
  },
  {
   "cell_type": "code",
   "execution_count": 15,
   "id": "7dc8b9ed",
   "metadata": {},
   "outputs": [
    {
     "data": {
      "text/plain": [
       "<matplotlib.legend.Legend at 0x1511e774b410>"
      ]
     },
     "execution_count": 15,
     "metadata": {},
     "output_type": "execute_result"
    },
    {
     "data": {
      "image/png": "[encoded data removed]",
      "text/plain": [
       "<Figure size 432x288 with 1 Axes>"
      ]
     },
     "metadata": {
      "needs_background": "light"
     },
     "output_type": "display_data"
    }
   ],
   "source": [
    "bins = 50\n",
    "plt.hist(df1_matched[\"i_cmodel_mag_ge\"], density=True, label=\"HSC\", bins=bins)\n",
    "plt.hist(df2_matched[\"i_band_mag_dust_apparent\"], density=True, alpha=0.5, label=\"TNG\", bins=bins)\n",
    "plt.xlabel(\"i_band_mag\")\n",
    "plt.legend()"
   ]
  },
  {
   "cell_type": "code",
   "execution_count": null,
   "id": "d465ba44",
   "metadata": {},
   "outputs": [],
   "source": []
  },
  {
   "cell_type": "code",
   "execution_count": null,
   "id": "37dc5a5f",
   "metadata": {},
   "outputs": [],
   "source": []
  }
 ],
 "metadata": {
  "kernelspec": {
   "display_name": "Python 3 (ipykernel)",
   "language": "python",
   "name": "python3"
  },
  "language_info": {
   "codemirror_mode": {
    "name": "ipython",
    "version": 3
   },
   "file_extension": ".py",
   "mimetype": "text/x-python",
   "name": "python",
   "nbconvert_exporter": "python",
   "pygments_lexer": "ipython3",
   "version": "3.7.6"
  }
 },
 "nbformat": 4,
 "nbformat_minor": 5
}
